{
 "cells": [
  {
   "cell_type": "code",
   "execution_count": 36,
   "metadata": {},
   "outputs": [],
   "source": [
    "from __future__ import absolute_import\n",
    "from __future__ import division\n",
    "from __future__ import print_function\n",
    "\n",
    "import os.path as osp\n",
    "import numpy as np\n",
    "import h5py\n",
    "import json\n",
    "import random"
   ]
  },
  {
   "cell_type": "code",
   "execution_count": 3,
   "metadata": {},
   "outputs": [],
   "source": [
    "js = json.load(open(\"cache/prepro/refcoco_unc/data.json\"))"
   ]
  },
  {
   "cell_type": "code",
   "execution_count": 5,
   "metadata": {},
   "outputs": [
    {
     "name": "stdout",
     "output_type": "stream",
     "text": [
      "dict_keys(['refs', 'images', 'anns', 'sentences', 'word_to_ix', 'att_to_ix', 'att_to_cnt', 'cat_to_ix', 'label_length'])\n"
     ]
    }
   ],
   "source": [
    "print(js.keys())"
   ]
  },
  {
   "cell_type": "code",
   "execution_count": 18,
   "metadata": {},
   "outputs": [
    {
     "name": "stdout",
     "output_type": "stream",
     "text": [
      "dict_keys(['guy', 'woman', 'girl', 'white', 'shirt', 'black', 'blue', 'red', 'lady', 'kid', 'boy', 'green', 'player', 'brown', 'bike', 'yellow', 'pink', 'glass', 'corner', 'animal', 'batter', 'gray', 'child', 'baby', 'slice', 'food', 'hand', 'catcher', 'dark', 'side', 'jacket', 'part', 'table', 'partial', 'purple', 'blurry', 'half', 'leg', 'bag', 'old', 'face', 'monitor', 'plate', 'umpire', 'area', 'skier', 'striped', 'pants', 'sofa', 'board'])\n"
     ]
    }
   ],
   "source": [
    "print(js['att_to_ix'].keys())"
   ]
  },
  {
   "cell_type": "code",
   "execution_count": 22,
   "metadata": {},
   "outputs": [
    {
     "name": "stdout",
     "output_type": "stream",
     "text": [
      "dict_values([7654, 4282, 3732, 3127, 3061, 2408, 2110, 2080, 1975, 1724, 1413, 1095, 1052, 863, 749, 747, 682, 612, 591, 567, 553, 520, 505, 474, 458, 451, 443, 412, 409, 387, 372, 361, 353, 347, 320, 302, 298, 276, 273, 262, 256, 249, 247, 245, 235, 228, 219, 207, 207, 204])\n"
     ]
    }
   ],
   "source": [
    "print((js['att_to_cnt'].values()))"
   ]
  },
  {
   "cell_type": "code",
   "execution_count": 28,
   "metadata": {},
   "outputs": [
    {
     "data": {
      "text/plain": [
       "142210"
      ]
     },
     "execution_count": 28,
     "metadata": {},
     "output_type": "execute_result"
    }
   ],
   "source": [
    "len(js['sentences'])"
   ]
  },
  {
   "cell_type": "code",
   "execution_count": 24,
   "metadata": {},
   "outputs": [],
   "source": [
    "dh5 = h5py.File(\"cache/prepro/refcoco_unc/data.h5\", 'r')"
   ]
  },
  {
   "cell_type": "code",
   "execution_count": 25,
   "metadata": {},
   "outputs": [
    {
     "name": "stdout",
     "output_type": "stream",
     "text": [
      "<KeysViewHDF5 ['labels']>\n"
     ]
    }
   ],
   "source": [
    "print(dh5.keys())"
   ]
  },
  {
   "cell_type": "code",
   "execution_count": 26,
   "metadata": {},
   "outputs": [],
   "source": [
    "labels = dh5['labels']"
   ]
  },
  {
   "cell_type": "code",
   "execution_count": 32,
   "metadata": {},
   "outputs": [
    {
     "data": {
      "text/plain": [
       "array([   9, 1996,   15,    0,    0,    0,    0,    0,    0,    0],\n",
       "      dtype=int32)"
      ]
     },
     "execution_count": 32,
     "metadata": {},
     "output_type": "execute_result"
    }
   ],
   "source": [
    "labels[5]"
   ]
  },
  {
   "cell_type": "code",
   "execution_count": 51,
   "metadata": {},
   "outputs": [
    {
     "name": "stdout",
     "output_type": "stream",
     "text": [
      "{'image_id': 52461, 'height': 484, 'width': 640, 'file_name': 'COCO_train2014_000000052461.jpg', 'ref_ids': [45477, 45478], 'ann_ids': [418266, 418762, 1782136], 'h5_id': 1}\n"
     ]
    }
   ],
   "source": [
    "for image in js['images']:\n",
    "    if(image['image_id']==52461):\n",
    "        print(image)"
   ]
  },
  {
   "cell_type": "code",
   "execution_count": 48,
   "metadata": {},
   "outputs": [
    {
     "name": "stdout",
     "output_type": "stream",
     "text": [
      "{'ref_id': 45477, 'split': 'train', 'category_id': 14, 'ann_id': 418762, 'sent_ids': [129331, 129332, 129333], 'box': [368.14, 0.1, 120.19, 220.89], 'image_id': 52461, 'att_wds': []}\n"
     ]
    }
   ],
   "source": [
    "print(js['refs'][45477])"
   ]
  },
  {
   "cell_type": "code",
   "execution_count": 57,
   "metadata": {},
   "outputs": [
    {
     "data": {
      "text/plain": [
       "196771"
      ]
     },
     "execution_count": 57,
     "metadata": {},
     "output_type": "execute_result"
    }
   ],
   "source": [
    "len(js['anns'])"
   ]
  },
  {
   "cell_type": "code",
   "execution_count": null,
   "metadata": {},
   "outputs": [],
   "source": []
  }
 ],
 "metadata": {
  "kernelspec": {
   "display_name": "Python 3",
   "language": "python",
   "name": "python3"
  },
  "language_info": {
   "codemirror_mode": {
    "name": "ipython",
    "version": 3
   },
   "file_extension": ".py",
   "mimetype": "text/x-python",
   "name": "python",
   "nbconvert_exporter": "python",
   "pygments_lexer": "ipython3",
   "version": "3.8.3"
  }
 },
 "nbformat": 4,
 "nbformat_minor": 4
}
